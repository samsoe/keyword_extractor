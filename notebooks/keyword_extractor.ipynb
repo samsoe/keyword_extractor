{
 "cells": [
  {
   "cell_type": "markdown",
   "metadata": {},
   "source": [
    "* initially experienced significant package dependency issues\n",
    "* created conda env 'pdf_process' <- use this"
   ]
  },
  {
   "cell_type": "markdown",
   "metadata": {},
   "source": [
    "## Preliminaries"
   ]
  },
  {
   "cell_type": "code",
   "execution_count": 4,
   "metadata": {},
   "outputs": [],
   "source": [
    "import pandas as pd\n",
    "import numpy as np\n",
    "import PyPDF2\n",
    "import textract\n",
    "import re"
   ]
  },
  {
   "cell_type": "markdown",
   "metadata": {},
   "source": [
    "## Reading Text"
   ]
  },
  {
   "cell_type": "markdown",
   "metadata": {},
   "source": [
    "- converted PDF file to txt format for better pre-processing"
   ]
  },
  {
   "cell_type": "code",
   "execution_count": 5,
   "metadata": {},
   "outputs": [],
   "source": [
    "filename ='../src/Songbird Migration 2018_Field Note_1.pdf'\n",
    "\n",
    "pdfFileObj = open(filename,'rb')               #open allows you to read the file\n",
    "pdfReader = PyPDF2.PdfFileReader(pdfFileObj)   #The pdfReader variable is a readable object that will be parsed\n",
    "num_pages = pdfReader.numPages                 #discerning the number of pages will allow us to parse through all the pages\n",
    "\n",
    "\n",
    "count = 0\n",
    "text = \"\"\n",
    "                                                            \n",
    "while count < num_pages:                       #The while loop will read each page\n",
    "    pageObj = pdfReader.getPage(count)\n",
    "    count +=1\n",
    "    text += pageObj.extractText()\n",
    "    \n",
    "#Below if statement exists to check if the above library returned #words. It's done because PyPDF2 cannot read scanned files.\n",
    "\n",
    "if text != \"\":\n",
    "    text = text\n",
    "    \n",
    "#If the above returns as False, we run the OCR library textract to #convert scanned/image based PDF files into text\n",
    "\n",
    "else:\n",
    "    text = textract.process('http://bit.ly/epo_keyword_extraction_document', method='tesseract', language='eng')\n",
    "\n",
    "    # Now we have a text variable which contains all the text derived from our PDF file."
   ]
  },
  {
   "cell_type": "code",
   "execution_count": 6,
   "metadata": {},
   "outputs": [],
   "source": [
    "text = text.encode('ascii','ignore').lower() #Lowercasing each word"
   ]
  },
  {
   "cell_type": "markdown",
   "metadata": {},
   "source": [
    "## Extracting Keywords"
   ]
  },
  {
   "cell_type": "code",
   "execution_count": 7,
   "metadata": {},
   "outputs": [
    {
     "data": {
      "text/plain": [
       "798"
      ]
     },
     "execution_count": 7,
     "metadata": {},
     "output_type": "execute_result"
    }
   ],
   "source": [
    "keywords = re.findall(r'[a-zA-Z]\\w+',text)\n",
    "len(keywords)                               #Total keywords in document"
   ]
  },
  {
   "cell_type": "code",
   "execution_count": 8,
   "metadata": {},
   "outputs": [],
   "source": [
    "df = pd.DataFrame(list(set(keywords)),columns=['keywords'])  #Dataframe with unique keywords to avoid repetition in rows"
   ]
  },
  {
   "cell_type": "markdown",
   "metadata": {},
   "source": [
    "## Calculating Weightage"
   ]
  },
  {
   "cell_type": "markdown",
   "metadata": {},
   "source": [
    " - In information retrieval, tf–idf or TFIDF, short for term frequency–inverse document frequency, is a numerical statistic that is intended to reflect how important a word is to a document in a collection or corpus.It is often used as a weighting factor in searches of information retrieval, text mining, and user modeling. "
   ]
  },
  {
   "cell_type": "markdown",
   "metadata": {},
   "source": [
    "- __TF: Term Frequency__, which measures how frequently a term occurs in a document. Since every document is different in length, it is possible that a term would appear much more times in long documents than shorter ones. Thus, the term frequency is often divided by the document length (aka. the total number of terms in the document) as a way of normalization: \n",
    "\n",
    "__TF(t) = (Number of times term t appears in a document) / (Total number of terms in the document).__\n",
    "\n",
    "- __IDF: Inverse Document Frequency__, which measures how important a term is. While computing TF, all terms are considered equally important. However it is known that certain terms, such as \"is\", \"of\", and \"that\", may appear a lot of times but have little importance. Thus we need to weigh down the frequent terms while scale up the rare ones, by computing the following: \n",
    "\n",
    "__IDF(t) = log_e(Total number of documents / Number of documents with term t in it).__"
   ]
  },
  {
   "cell_type": "code",
   "execution_count": 9,
   "metadata": {},
   "outputs": [],
   "source": [
    "def weightage(word,text,number_of_documents=1):\n",
    "    word_list = re.findall(word,text)\n",
    "    number_of_times_word_appeared =len(word_list)\n",
    "    tf = number_of_times_word_appeared/float(len(text))\n",
    "    idf = np.log((number_of_documents)/float(number_of_times_word_appeared))\n",
    "    tf_idf = tf*idf\n",
    "    return number_of_times_word_appeared,tf,idf ,tf_idf    "
   ]
  },
  {
   "cell_type": "code",
   "execution_count": 10,
   "metadata": {},
   "outputs": [],
   "source": [
    "df['number_of_times_word_appeared'] = df['keywords'].apply(lambda x: weightage(x,text)[0])\n",
    "df['tf'] = df['keywords'].apply(lambda x: weightage(x,text)[1])\n",
    "df['idf'] = df['keywords'].apply(lambda x: weightage(x,text)[2])\n",
    "df['tf_idf'] = df['keywords'].apply(lambda x: weightage(x,text)[3])"
   ]
  },
  {
   "cell_type": "code",
   "execution_count": 11,
   "metadata": {
    "scrolled": true
   },
   "outputs": [
    {
     "data": {
      "text/html": [
       "<div>\n",
       "<style scoped>\n",
       "    .dataframe tbody tr th:only-of-type {\n",
       "        vertical-align: middle;\n",
       "    }\n",
       "\n",
       "    .dataframe tbody tr th {\n",
       "        vertical-align: top;\n",
       "    }\n",
       "\n",
       "    .dataframe thead th {\n",
       "        text-align: right;\n",
       "    }\n",
       "</style>\n",
       "<table border=\"1\" class=\"dataframe\">\n",
       "  <thead>\n",
       "    <tr style=\"text-align: right;\">\n",
       "      <th></th>\n",
       "      <th>keywords</th>\n",
       "      <th>number_of_times_word_appeared</th>\n",
       "      <th>tf</th>\n",
       "      <th>idf</th>\n",
       "      <th>tf_idf</th>\n",
       "    </tr>\n",
       "  </thead>\n",
       "  <tbody>\n",
       "    <tr>\n",
       "      <th>272</th>\n",
       "      <td>in</td>\n",
       "      <td>90</td>\n",
       "      <td>0.016435</td>\n",
       "      <td>-4.499810</td>\n",
       "      <td>-0.073956</td>\n",
       "    </tr>\n",
       "    <tr>\n",
       "      <th>263</th>\n",
       "      <td>at</td>\n",
       "      <td>62</td>\n",
       "      <td>0.011322</td>\n",
       "      <td>-4.127134</td>\n",
       "      <td>-0.046728</td>\n",
       "    </tr>\n",
       "    <tr>\n",
       "      <th>339</th>\n",
       "      <td>on</td>\n",
       "      <td>59</td>\n",
       "      <td>0.010774</td>\n",
       "      <td>-4.077537</td>\n",
       "      <td>-0.043933</td>\n",
       "    </tr>\n",
       "    <tr>\n",
       "      <th>292</th>\n",
       "      <td>the</td>\n",
       "      <td>49</td>\n",
       "      <td>0.008948</td>\n",
       "      <td>-3.891820</td>\n",
       "      <td>-0.034825</td>\n",
       "    </tr>\n",
       "    <tr>\n",
       "      <th>377</th>\n",
       "      <td>an</td>\n",
       "      <td>48</td>\n",
       "      <td>0.008766</td>\n",
       "      <td>-3.871201</td>\n",
       "      <td>-0.033933</td>\n",
       "    </tr>\n",
       "    <tr>\n",
       "      <th>269</th>\n",
       "      <td>it</td>\n",
       "      <td>43</td>\n",
       "      <td>0.007852</td>\n",
       "      <td>-3.761200</td>\n",
       "      <td>-0.029535</td>\n",
       "    </tr>\n",
       "    <tr>\n",
       "      <th>346</th>\n",
       "      <td>or</td>\n",
       "      <td>36</td>\n",
       "      <td>0.006574</td>\n",
       "      <td>-3.583519</td>\n",
       "      <td>-0.023559</td>\n",
       "    </tr>\n",
       "    <tr>\n",
       "      <th>232</th>\n",
       "      <td>we</td>\n",
       "      <td>29</td>\n",
       "      <td>0.005296</td>\n",
       "      <td>-3.367296</td>\n",
       "      <td>-0.017833</td>\n",
       "    </tr>\n",
       "    <tr>\n",
       "      <th>268</th>\n",
       "      <td>is</td>\n",
       "      <td>26</td>\n",
       "      <td>0.004748</td>\n",
       "      <td>-3.258097</td>\n",
       "      <td>-0.015469</td>\n",
       "    </tr>\n",
       "    <tr>\n",
       "      <th>4</th>\n",
       "      <td>to</td>\n",
       "      <td>25</td>\n",
       "      <td>0.004565</td>\n",
       "      <td>-3.218876</td>\n",
       "      <td>-0.014695</td>\n",
       "    </tr>\n",
       "    <tr>\n",
       "      <th>170</th>\n",
       "      <td>and</td>\n",
       "      <td>24</td>\n",
       "      <td>0.004383</td>\n",
       "      <td>-3.178054</td>\n",
       "      <td>-0.013929</td>\n",
       "    </tr>\n",
       "    <tr>\n",
       "      <th>379</th>\n",
       "      <td>as</td>\n",
       "      <td>23</td>\n",
       "      <td>0.004200</td>\n",
       "      <td>-3.135494</td>\n",
       "      <td>-0.013170</td>\n",
       "    </tr>\n",
       "    <tr>\n",
       "      <th>342</th>\n",
       "      <td>of</td>\n",
       "      <td>22</td>\n",
       "      <td>0.004018</td>\n",
       "      <td>-3.091042</td>\n",
       "      <td>-0.012418</td>\n",
       "    </tr>\n",
       "    <tr>\n",
       "      <th>25</th>\n",
       "      <td>bird</td>\n",
       "      <td>21</td>\n",
       "      <td>0.003835</td>\n",
       "      <td>-3.044522</td>\n",
       "      <td>-0.011675</td>\n",
       "    </tr>\n",
       "    <tr>\n",
       "      <th>274</th>\n",
       "      <td>capture</td>\n",
       "      <td>20</td>\n",
       "      <td>0.003652</td>\n",
       "      <td>-2.995732</td>\n",
       "      <td>-0.010941</td>\n",
       "    </tr>\n",
       "    <tr>\n",
       "      <th>355</th>\n",
       "      <td>her</td>\n",
       "      <td>18</td>\n",
       "      <td>0.003287</td>\n",
       "      <td>-2.890372</td>\n",
       "      <td>-0.009501</td>\n",
       "    </tr>\n",
       "    <tr>\n",
       "      <th>130</th>\n",
       "      <td>red</td>\n",
       "      <td>17</td>\n",
       "      <td>0.003104</td>\n",
       "      <td>-2.833213</td>\n",
       "      <td>-0.008796</td>\n",
       "    </tr>\n",
       "    <tr>\n",
       "      <th>44</th>\n",
       "      <td>site</td>\n",
       "      <td>16</td>\n",
       "      <td>0.002922</td>\n",
       "      <td>-2.772589</td>\n",
       "      <td>-0.008101</td>\n",
       "    </tr>\n",
       "    <tr>\n",
       "      <th>79</th>\n",
       "      <td>so</td>\n",
       "      <td>14</td>\n",
       "      <td>0.002557</td>\n",
       "      <td>-2.639057</td>\n",
       "      <td>-0.006747</td>\n",
       "    </tr>\n",
       "    <tr>\n",
       "      <th>384</th>\n",
       "      <td>no</td>\n",
       "      <td>12</td>\n",
       "      <td>0.002191</td>\n",
       "      <td>-2.484907</td>\n",
       "      <td>-0.005445</td>\n",
       "    </tr>\n",
       "    <tr>\n",
       "      <th>196</th>\n",
       "      <td>sparrow</td>\n",
       "      <td>11</td>\n",
       "      <td>0.002009</td>\n",
       "      <td>-2.397895</td>\n",
       "      <td>-0.004817</td>\n",
       "    </tr>\n",
       "    <tr>\n",
       "      <th>49</th>\n",
       "      <td>this</td>\n",
       "      <td>11</td>\n",
       "      <td>0.002009</td>\n",
       "      <td>-2.397895</td>\n",
       "      <td>-0.004817</td>\n",
       "    </tr>\n",
       "    <tr>\n",
       "      <th>0</th>\n",
       "      <td>all</td>\n",
       "      <td>10</td>\n",
       "      <td>0.001826</td>\n",
       "      <td>-2.302585</td>\n",
       "      <td>-0.004205</td>\n",
       "    </tr>\n",
       "    <tr>\n",
       "      <th>60</th>\n",
       "      <td>species</td>\n",
       "      <td>9</td>\n",
       "      <td>0.001644</td>\n",
       "      <td>-2.197225</td>\n",
       "      <td>-0.003611</td>\n",
       "    </tr>\n",
       "    <tr>\n",
       "      <th>301</th>\n",
       "      <td>captured</td>\n",
       "      <td>9</td>\n",
       "      <td>0.001644</td>\n",
       "      <td>-2.197225</td>\n",
       "      <td>-0.003611</td>\n",
       "    </tr>\n",
       "  </tbody>\n",
       "</table>\n",
       "</div>"
      ],
      "text/plain": [
       "     keywords  number_of_times_word_appeared        tf       idf    tf_idf\n",
       "272        in                             90  0.016435 -4.499810 -0.073956\n",
       "263        at                             62  0.011322 -4.127134 -0.046728\n",
       "339        on                             59  0.010774 -4.077537 -0.043933\n",
       "292       the                             49  0.008948 -3.891820 -0.034825\n",
       "377        an                             48  0.008766 -3.871201 -0.033933\n",
       "269        it                             43  0.007852 -3.761200 -0.029535\n",
       "346        or                             36  0.006574 -3.583519 -0.023559\n",
       "232        we                             29  0.005296 -3.367296 -0.017833\n",
       "268        is                             26  0.004748 -3.258097 -0.015469\n",
       "4          to                             25  0.004565 -3.218876 -0.014695\n",
       "170       and                             24  0.004383 -3.178054 -0.013929\n",
       "379        as                             23  0.004200 -3.135494 -0.013170\n",
       "342        of                             22  0.004018 -3.091042 -0.012418\n",
       "25       bird                             21  0.003835 -3.044522 -0.011675\n",
       "274   capture                             20  0.003652 -2.995732 -0.010941\n",
       "355       her                             18  0.003287 -2.890372 -0.009501\n",
       "130       red                             17  0.003104 -2.833213 -0.008796\n",
       "44       site                             16  0.002922 -2.772589 -0.008101\n",
       "79         so                             14  0.002557 -2.639057 -0.006747\n",
       "384        no                             12  0.002191 -2.484907 -0.005445\n",
       "196   sparrow                             11  0.002009 -2.397895 -0.004817\n",
       "49       this                             11  0.002009 -2.397895 -0.004817\n",
       "0         all                             10  0.001826 -2.302585 -0.004205\n",
       "60    species                              9  0.001644 -2.197225 -0.003611\n",
       "301  captured                              9  0.001644 -2.197225 -0.003611"
      ]
     },
     "execution_count": 11,
     "metadata": {},
     "output_type": "execute_result"
    }
   ],
   "source": [
    "df = df.sort_values('tf_idf',ascending=True)\n",
    "# df.to_csv('Keywords.csv')\n",
    "df.head(25)"
   ]
  },
  {
   "cell_type": "markdown",
   "metadata": {},
   "source": [
    "## Second Method - Using Gensim library"
   ]
  },
  {
   "cell_type": "code",
   "execution_count": 12,
   "metadata": {},
   "outputs": [
    {
     "name": "stderr",
     "output_type": "stream",
     "text": [
      "No handlers could be found for logger \"smart_open.ssh\"\n"
     ]
    }
   ],
   "source": [
    "from gensim.summarization import keywords\n",
    "import warnings\n",
    "warnings.filterwarnings(\"ignore\")"
   ]
  },
  {
   "cell_type": "code",
   "execution_count": 13,
   "metadata": {},
   "outputs": [],
   "source": [
    "values = keywords(text=text,split='\\n',scores=True)"
   ]
  },
  {
   "cell_type": "code",
   "execution_count": 14,
   "metadata": {},
   "outputs": [
    {
     "data": {
      "text/html": [
       "<div>\n",
       "<style scoped>\n",
       "    .dataframe tbody tr th:only-of-type {\n",
       "        vertical-align: middle;\n",
       "    }\n",
       "\n",
       "    .dataframe tbody tr th {\n",
       "        vertical-align: top;\n",
       "    }\n",
       "\n",
       "    .dataframe thead th {\n",
       "        text-align: right;\n",
       "    }\n",
       "</style>\n",
       "<table border=\"1\" class=\"dataframe\">\n",
       "  <thead>\n",
       "    <tr style=\"text-align: right;\">\n",
       "      <th></th>\n",
       "      <th>keyword</th>\n",
       "      <th>score</th>\n",
       "    </tr>\n",
       "  </thead>\n",
       "  <tbody>\n",
       "    <tr>\n",
       "      <th>0</th>\n",
       "      <td>sparrow</td>\n",
       "      <td>0.265833</td>\n",
       "    </tr>\n",
       "    <tr>\n",
       "      <th>1</th>\n",
       "      <td>captured</td>\n",
       "      <td>0.263599</td>\n",
       "    </tr>\n",
       "    <tr>\n",
       "      <th>2</th>\n",
       "      <td>captures</td>\n",
       "      <td>0.263599</td>\n",
       "    </tr>\n",
       "    <tr>\n",
       "      <th>3</th>\n",
       "      <td>capture</td>\n",
       "      <td>0.263599</td>\n",
       "    </tr>\n",
       "    <tr>\n",
       "      <th>4</th>\n",
       "      <td>site</td>\n",
       "      <td>0.183963</td>\n",
       "    </tr>\n",
       "    <tr>\n",
       "      <th>5</th>\n",
       "      <td>sites</td>\n",
       "      <td>0.183963</td>\n",
       "    </tr>\n",
       "    <tr>\n",
       "      <th>6</th>\n",
       "      <td>banding</td>\n",
       "      <td>0.157433</td>\n",
       "    </tr>\n",
       "    <tr>\n",
       "      <th>7</th>\n",
       "      <td>banded</td>\n",
       "      <td>0.157433</td>\n",
       "    </tr>\n",
       "    <tr>\n",
       "      <th>8</th>\n",
       "      <td>bird</td>\n",
       "      <td>0.140004</td>\n",
       "    </tr>\n",
       "    <tr>\n",
       "      <th>9</th>\n",
       "      <td>birds</td>\n",
       "      <td>0.140004</td>\n",
       "    </tr>\n",
       "  </tbody>\n",
       "</table>\n",
       "</div>"
      ],
      "text/plain": [
       "    keyword     score\n",
       "0   sparrow  0.265833\n",
       "1  captured  0.263599\n",
       "2  captures  0.263599\n",
       "3   capture  0.263599\n",
       "4      site  0.183963\n",
       "5     sites  0.183963\n",
       "6   banding  0.157433\n",
       "7    banded  0.157433\n",
       "8      bird  0.140004\n",
       "9     birds  0.140004"
      ]
     },
     "execution_count": 14,
     "metadata": {},
     "output_type": "execute_result"
    }
   ],
   "source": [
    "data = pd.DataFrame(values,columns=['keyword','score'])\n",
    "data = data.sort_values('score',ascending=False)\n",
    "data.head(10)"
   ]
  },
  {
   "cell_type": "markdown",
   "metadata": {},
   "source": [
    "### Third Approach - Using RAKE (Rapid Automatic Keyword Extraction)"
   ]
  },
  {
   "cell_type": "code",
   "execution_count": 15,
   "metadata": {},
   "outputs": [],
   "source": [
    "from rake_nltk import Rake"
   ]
  },
  {
   "cell_type": "code",
   "execution_count": 16,
   "metadata": {},
   "outputs": [],
   "source": [
    "r = Rake()\n",
    "r.extract_keywords_from_text(text)"
   ]
  },
  {
   "cell_type": "code",
   "execution_count": 17,
   "metadata": {},
   "outputs": [],
   "source": [
    "phrases = r.get_ranked_phrases_with_scores()"
   ]
  },
  {
   "cell_type": "code",
   "execution_count": 18,
   "metadata": {},
   "outputs": [],
   "source": [
    "table = pd.DataFrame(phrases,columns=['score','Phrase'])\n",
    "table = table.sort_values('score',ascending=False)\n"
   ]
  },
  {
   "cell_type": "code",
   "execution_count": 19,
   "metadata": {},
   "outputs": [
    {
     "data": {
      "text/html": [
       "<div>\n",
       "<style scoped>\n",
       "    .dataframe tbody tr th:only-of-type {\n",
       "        vertical-align: middle;\n",
       "    }\n",
       "\n",
       "    .dataframe tbody tr th {\n",
       "        vertical-align: top;\n",
       "    }\n",
       "\n",
       "    .dataframe thead th {\n",
       "        text-align: right;\n",
       "    }\n",
       "</style>\n",
       "<table border=\"1\" class=\"dataframe\">\n",
       "  <thead>\n",
       "    <tr style=\"text-align: right;\">\n",
       "      <th></th>\n",
       "      <th>score</th>\n",
       "      <th>Phrase</th>\n",
       "    </tr>\n",
       "  </thead>\n",
       "  <tbody>\n",
       "    <tr>\n",
       "      <th>0</th>\n",
       "      <td>274.038636</td>\n",
       "      <td>warbler 46common yellowthroat 4song sparrow 34...</td>\n",
       "    </tr>\n",
       "    <tr>\n",
       "      <th>1</th>\n",
       "      <td>139.523485</td>\n",
       "      <td>thrush 109unidentified empidonax flycatcher 7y...</td>\n",
       "    </tr>\n",
       "    <tr>\n",
       "      <th>2</th>\n",
       "      <td>96.000000</td>\n",
       "      <td>eared owl 1spotted towhee 9ovenbird 1american ...</td>\n",
       "    </tr>\n",
       "    <tr>\n",
       "      <th>3</th>\n",
       "      <td>80.000000</td>\n",
       "      <td>headed grosbeak 20northern waterthrush 2lazuli...</td>\n",
       "    </tr>\n",
       "    <tr>\n",
       "      <th>4</th>\n",
       "      <td>68.723485</td>\n",
       "      <td>crowned warbler 19ruffed grouse 2warbling vire...</td>\n",
       "    </tr>\n",
       "    <tr>\n",
       "      <th>5</th>\n",
       "      <td>68.133333</td>\n",
       "      <td>pewee 26downy woodpecker 2dusky flycatcher 22m...</td>\n",
       "    </tr>\n",
       "    <tr>\n",
       "      <th>6</th>\n",
       "      <td>46.000000</td>\n",
       "      <td>breasted nuthatch 2evening grosbeak 13wild tur...</td>\n",
       "    </tr>\n",
       "    <tr>\n",
       "      <th>7</th>\n",
       "      <td>45.133333</td>\n",
       "      <td>flycatcher 10hermit thrush 1calliope hummingbi...</td>\n",
       "    </tr>\n",
       "    <tr>\n",
       "      <th>8</th>\n",
       "      <td>39.208333</td>\n",
       "      <td>warbler 16varied thrush 2american redstart 13w...</td>\n",
       "    </tr>\n",
       "    <tr>\n",
       "      <th>9</th>\n",
       "      <td>29.333333</td>\n",
       "      <td>eyed vireo 1grand total 1336with help</td>\n",
       "    </tr>\n",
       "  </tbody>\n",
       "</table>\n",
       "</div>"
      ],
      "text/plain": [
       "        score                                             Phrase\n",
       "0  274.038636  warbler 46common yellowthroat 4song sparrow 34...\n",
       "1  139.523485  thrush 109unidentified empidonax flycatcher 7y...\n",
       "2   96.000000  eared owl 1spotted towhee 9ovenbird 1american ...\n",
       "3   80.000000  headed grosbeak 20northern waterthrush 2lazuli...\n",
       "4   68.723485  crowned warbler 19ruffed grouse 2warbling vire...\n",
       "5   68.133333  pewee 26downy woodpecker 2dusky flycatcher 22m...\n",
       "6   46.000000  breasted nuthatch 2evening grosbeak 13wild tur...\n",
       "7   45.133333  flycatcher 10hermit thrush 1calliope hummingbi...\n",
       "8   39.208333  warbler 16varied thrush 2american redstart 13w...\n",
       "9   29.333333              eyed vireo 1grand total 1336with help"
      ]
     },
     "execution_count": 19,
     "metadata": {},
     "output_type": "execute_result"
    }
   ],
   "source": [
    "table.head(10)"
   ]
  }
 ],
 "metadata": {
  "kernelspec": {
   "display_name": "Python 2.7",
   "language": "python",
   "name": "py2"
  },
  "language_info": {
   "codemirror_mode": {
    "name": "ipython",
    "version": 2
   },
   "file_extension": ".py",
   "mimetype": "text/x-python",
   "name": "python",
   "nbconvert_exporter": "python",
   "pygments_lexer": "ipython2",
   "version": "2.7.15"
  }
 },
 "nbformat": 4,
 "nbformat_minor": 2
}
